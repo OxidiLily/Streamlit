{
 "cells": [
  {
   "cell_type": "code",
   "execution_count": 3,
   "id": "c0957234-ba57-4199-adfa-9d17ede0b8f9",
   "metadata": {},
   "outputs": [
    {
     "data": {
      "application/vnd.jupyter.widget-view+json": {
       "model_id": "d0dcf551078d4138b82ee77605997e57",
       "version_major": 2,
       "version_minor": 0
      },
      "text/plain": [
       "MitoWidget(analysis_data_json='{\"analysisName\": \"id-aqgovdwrcy\", \"analysisToReplay\": null, \"code\": [], \"stepSu…"
      ]
     },
     "metadata": {},
     "output_type": "display_data"
    }
   ],
   "source": [
    "# Run this cell to render a mitosheet\n",
    "# See mito's documentation here: https://docs.trymito.io/how-to/creating-a-mitosheet\n",
    "# Join our Discord for support here: https://discord.gg/XdJSZyejJU\n",
    "\n",
    "import mitosheet\n",
    "mitosheet.sheet(analysis_to_replay=\"id-aqgovdwrcy\")"
   ]
  },
  {
   "cell_type": "code",
   "execution_count": 1,
   "id": "582314d7",
   "metadata": {},
   "outputs": [],
   "source": [
    "from mitosheet import *; register_analysis(\"id-aqgovdwrcy\");\n",
    "    \n",
    "# Imported healthcare-dataset-stroke-data.csv\n",
    "import pandas as pd\n",
    "healthcare_dataset_stroke_data = pd.read_csv(r'healthcare-dataset-stroke-data.csv')\n",
    "\n",
    "# Filtered bmi\n",
    "healthcare_dataset_stroke_data = healthcare_dataset_stroke_data[healthcare_dataset_stroke_data['bmi'].notnull()]\n",
    "\n",
    "# Filtered avg_glucose_level\n",
    "healthcare_dataset_stroke_data = healthcare_dataset_stroke_data[healthcare_dataset_stroke_data['avg_glucose_level'].notnull()]\n"
   ]
  },
  {
   "cell_type": "code",
   "execution_count": null,
   "id": "c10c88b0",
   "metadata": {},
   "outputs": [],
   "source": [
    "import plotly.express as px\n",
    "\n",
    "# Filter the dataframe so that it does not crash the browser\n",
    "healthcare_dataset_stroke_data_filtered = healthcare_dataset_stroke_data.head(1000)\n",
    "\n",
    "# Construct the graph and style it. Further customize your graph by editing this code.\n",
    "# See Plotly Documentation for help: https://plotly.com/python/plotly-express/\n",
    "fig = px.histogram(healthcare_dataset_stroke_data_filtered, x=['age', 'avg_glucose_level', 'bmi'], y='stroke')\n",
    "fig.update_layout(\n",
    "    title='age, avg_glucose_level, bmi, stroke (first 1000 rows) histogram', \n",
    "    xaxis = dict(\n",
    "        rangeslider = dict(\n",
    "            visible=True, \n",
    "            thickness=0.05\n",
    "        )\n",
    "    ), \n",
    "    yaxis = dict(\n",
    "\n",
    "    ), \n",
    "    barmode='group', \n",
    "    paper_bgcolor='#FFFFFF', \n",
    "    showlegend=True\n",
    ")\n",
    "fig.show(renderer=\"iframe\")"
   ]
  }
 ],
 "metadata": {
  "interpreter": {
   "hash": "e99a49a5a761cbfc0d8a24d4d308a1e53b8fa9110ddcb868c057141c1b30b1dd"
  },
  "kernelspec": {
   "display_name": "Python 3.10.4 64-bit",
   "language": "python",
   "name": "python3"
  },
  "language_info": {
   "codemirror_mode": {
    "name": "ipython",
    "version": 3
   },
   "file_extension": ".py",
   "mimetype": "text/x-python",
   "name": "python",
   "nbconvert_exporter": "python",
   "pygments_lexer": "ipython3",
   "version": "3.10.4"
  },
  "widgets": {
   "application/vnd.jupyter.widget-state+json": {
    "state": {},
    "version_major": 2,
    "version_minor": 0
   }
  }
 },
 "nbformat": 4,
 "nbformat_minor": 5
}
